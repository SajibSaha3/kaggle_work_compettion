{
 "cells": [
  {
   "cell_type": "code",
   "execution_count": 1,
   "id": "9d22c240",
   "metadata": {
    "execution": {
     "iopub.execute_input": "2024-05-18T15:17:13.070567Z",
     "iopub.status.busy": "2024-05-18T15:17:13.070149Z",
     "iopub.status.idle": "2024-05-18T15:17:14.035830Z",
     "shell.execute_reply": "2024-05-18T15:17:14.034498Z"
    },
    "papermill": {
     "duration": 0.977221,
     "end_time": "2024-05-18T15:17:14.038472",
     "exception": false,
     "start_time": "2024-05-18T15:17:13.061251",
     "status": "completed"
    },
    "tags": []
   },
   "outputs": [],
   "source": [
    "import pandas as pd\n",
    "import numpy as np\n",
    "from pandas.core.dtypes.common import is_numeric_dtype\n",
    "import warnings\n",
    "warnings.filterwarnings(\"ignore\")"
   ]
  },
  {
   "cell_type": "code",
   "execution_count": 2,
   "id": "acb5f4b3",
   "metadata": {
    "execution": {
     "iopub.execute_input": "2024-05-18T15:17:14.053770Z",
     "iopub.status.busy": "2024-05-18T15:17:14.053164Z",
     "iopub.status.idle": "2024-05-18T15:17:14.156440Z",
     "shell.execute_reply": "2024-05-18T15:17:14.155428Z"
    },
    "papermill": {
     "duration": 0.114036,
     "end_time": "2024-05-18T15:17:14.159115",
     "exception": false,
     "start_time": "2024-05-18T15:17:14.045079",
     "status": "completed"
    },
    "tags": []
   },
   "outputs": [],
   "source": [
    "train = pd.read_csv(\"/kaggle/input/spaceship-titanic/train.csv\")\n",
    "test = pd.read_csv(\"/kaggle/input/spaceship-titanic/test.csv\")\n",
    "submission_df = pd.read_csv(\"/kaggle/input/spaceship-titanic/sample_submission.csv\")\n"
   ]
  },
  {
   "cell_type": "code",
   "execution_count": 3,
   "id": "2d65c76b",
   "metadata": {
    "execution": {
     "iopub.execute_input": "2024-05-18T15:17:14.174030Z",
     "iopub.status.busy": "2024-05-18T15:17:14.173555Z",
     "iopub.status.idle": "2024-05-18T15:17:14.204514Z",
     "shell.execute_reply": "2024-05-18T15:17:14.203440Z"
    },
    "papermill": {
     "duration": 0.041175,
     "end_time": "2024-05-18T15:17:14.206888",
     "exception": false,
     "start_time": "2024-05-18T15:17:14.165713",
     "status": "completed"
    },
    "tags": []
   },
   "outputs": [
    {
     "data": {
      "text/html": [
       "<div>\n",
       "<style scoped>\n",
       "    .dataframe tbody tr th:only-of-type {\n",
       "        vertical-align: middle;\n",
       "    }\n",
       "\n",
       "    .dataframe tbody tr th {\n",
       "        vertical-align: top;\n",
       "    }\n",
       "\n",
       "    .dataframe thead th {\n",
       "        text-align: right;\n",
       "    }\n",
       "</style>\n",
       "<table border=\"1\" class=\"dataframe\">\n",
       "  <thead>\n",
       "    <tr style=\"text-align: right;\">\n",
       "      <th></th>\n",
       "      <th>PassengerId</th>\n",
       "      <th>HomePlanet</th>\n",
       "      <th>CryoSleep</th>\n",
       "      <th>Cabin</th>\n",
       "      <th>Destination</th>\n",
       "      <th>Age</th>\n",
       "      <th>VIP</th>\n",
       "      <th>RoomService</th>\n",
       "      <th>FoodCourt</th>\n",
       "      <th>ShoppingMall</th>\n",
       "      <th>Spa</th>\n",
       "      <th>VRDeck</th>\n",
       "      <th>Name</th>\n",
       "      <th>Transported</th>\n",
       "    </tr>\n",
       "  </thead>\n",
       "  <tbody>\n",
       "    <tr>\n",
       "      <th>0</th>\n",
       "      <td>0001_01</td>\n",
       "      <td>Europa</td>\n",
       "      <td>False</td>\n",
       "      <td>B/0/P</td>\n",
       "      <td>TRAPPIST-1e</td>\n",
       "      <td>39.0</td>\n",
       "      <td>False</td>\n",
       "      <td>0.0</td>\n",
       "      <td>0.0</td>\n",
       "      <td>0.0</td>\n",
       "      <td>0.0</td>\n",
       "      <td>0.0</td>\n",
       "      <td>Maham Ofracculy</td>\n",
       "      <td>False</td>\n",
       "    </tr>\n",
       "    <tr>\n",
       "      <th>1</th>\n",
       "      <td>0002_01</td>\n",
       "      <td>Earth</td>\n",
       "      <td>False</td>\n",
       "      <td>F/0/S</td>\n",
       "      <td>TRAPPIST-1e</td>\n",
       "      <td>24.0</td>\n",
       "      <td>False</td>\n",
       "      <td>109.0</td>\n",
       "      <td>9.0</td>\n",
       "      <td>25.0</td>\n",
       "      <td>549.0</td>\n",
       "      <td>44.0</td>\n",
       "      <td>Juanna Vines</td>\n",
       "      <td>True</td>\n",
       "    </tr>\n",
       "    <tr>\n",
       "      <th>2</th>\n",
       "      <td>0003_01</td>\n",
       "      <td>Europa</td>\n",
       "      <td>False</td>\n",
       "      <td>A/0/S</td>\n",
       "      <td>TRAPPIST-1e</td>\n",
       "      <td>58.0</td>\n",
       "      <td>True</td>\n",
       "      <td>43.0</td>\n",
       "      <td>3576.0</td>\n",
       "      <td>0.0</td>\n",
       "      <td>6715.0</td>\n",
       "      <td>49.0</td>\n",
       "      <td>Altark Susent</td>\n",
       "      <td>False</td>\n",
       "    </tr>\n",
       "    <tr>\n",
       "      <th>3</th>\n",
       "      <td>0003_02</td>\n",
       "      <td>Europa</td>\n",
       "      <td>False</td>\n",
       "      <td>A/0/S</td>\n",
       "      <td>TRAPPIST-1e</td>\n",
       "      <td>33.0</td>\n",
       "      <td>False</td>\n",
       "      <td>0.0</td>\n",
       "      <td>1283.0</td>\n",
       "      <td>371.0</td>\n",
       "      <td>3329.0</td>\n",
       "      <td>193.0</td>\n",
       "      <td>Solam Susent</td>\n",
       "      <td>False</td>\n",
       "    </tr>\n",
       "    <tr>\n",
       "      <th>4</th>\n",
       "      <td>0004_01</td>\n",
       "      <td>Earth</td>\n",
       "      <td>False</td>\n",
       "      <td>F/1/S</td>\n",
       "      <td>TRAPPIST-1e</td>\n",
       "      <td>16.0</td>\n",
       "      <td>False</td>\n",
       "      <td>303.0</td>\n",
       "      <td>70.0</td>\n",
       "      <td>151.0</td>\n",
       "      <td>565.0</td>\n",
       "      <td>2.0</td>\n",
       "      <td>Willy Santantines</td>\n",
       "      <td>True</td>\n",
       "    </tr>\n",
       "  </tbody>\n",
       "</table>\n",
       "</div>"
      ],
      "text/plain": [
       "  PassengerId HomePlanet CryoSleep  Cabin  Destination   Age    VIP  \\\n",
       "0     0001_01     Europa     False  B/0/P  TRAPPIST-1e  39.0  False   \n",
       "1     0002_01      Earth     False  F/0/S  TRAPPIST-1e  24.0  False   \n",
       "2     0003_01     Europa     False  A/0/S  TRAPPIST-1e  58.0   True   \n",
       "3     0003_02     Europa     False  A/0/S  TRAPPIST-1e  33.0  False   \n",
       "4     0004_01      Earth     False  F/1/S  TRAPPIST-1e  16.0  False   \n",
       "\n",
       "   RoomService  FoodCourt  ShoppingMall     Spa  VRDeck               Name  \\\n",
       "0          0.0        0.0           0.0     0.0     0.0    Maham Ofracculy   \n",
       "1        109.0        9.0          25.0   549.0    44.0       Juanna Vines   \n",
       "2         43.0     3576.0           0.0  6715.0    49.0      Altark Susent   \n",
       "3          0.0     1283.0         371.0  3329.0   193.0       Solam Susent   \n",
       "4        303.0       70.0         151.0   565.0     2.0  Willy Santantines   \n",
       "\n",
       "   Transported  \n",
       "0        False  \n",
       "1         True  \n",
       "2        False  \n",
       "3        False  \n",
       "4         True  "
      ]
     },
     "execution_count": 3,
     "metadata": {},
     "output_type": "execute_result"
    }
   ],
   "source": [
    "train.head()"
   ]
  },
  {
   "cell_type": "code",
   "execution_count": 4,
   "id": "e0b4575e",
   "metadata": {
    "execution": {
     "iopub.execute_input": "2024-05-18T15:17:14.222093Z",
     "iopub.status.busy": "2024-05-18T15:17:14.221645Z",
     "iopub.status.idle": "2024-05-18T15:17:14.248543Z",
     "shell.execute_reply": "2024-05-18T15:17:14.247101Z"
    },
    "papermill": {
     "duration": 0.037579,
     "end_time": "2024-05-18T15:17:14.251041",
     "exception": false,
     "start_time": "2024-05-18T15:17:14.213462",
     "status": "completed"
    },
    "tags": []
   },
   "outputs": [],
   "source": [
    "columns_missing = ['HomePlanet', 'CryoSleep', 'Destination',  'Age','VIP', 'RoomService', 'FoodCourt', 'ShoppingMall', 'Spa', 'VRDeck']\n",
    "\n",
    "# Manually impute missing values\n",
    "for column in columns_missing:\n",
    "    if column in ['HomePlanet', 'CryoSleep', 'Destination', 'VIP']:\n",
    "        # For categorical columns, fill missing values with the most frequent value\n",
    "        train[column].fillna(train[column].mode()[0], inplace=True)\n",
    "        test[column].fillna(test[column].mode()[0], inplace=True)\n",
    "    else:\n",
    "        # For numerical columns, fill missing values with the mean\n",
    "        train[column].fillna(train[column].mean(), inplace=True)\n",
    "        test[column].fillna(test[column].mean(), inplace=True)"
   ]
  },
  {
   "cell_type": "code",
   "execution_count": 5,
   "id": "6ca4c6ed",
   "metadata": {
    "execution": {
     "iopub.execute_input": "2024-05-18T15:17:14.266741Z",
     "iopub.status.busy": "2024-05-18T15:17:14.265671Z",
     "iopub.status.idle": "2024-05-18T15:17:14.277019Z",
     "shell.execute_reply": "2024-05-18T15:17:14.275978Z"
    },
    "papermill": {
     "duration": 0.021283,
     "end_time": "2024-05-18T15:17:14.279105",
     "exception": false,
     "start_time": "2024-05-18T15:17:14.257822",
     "status": "completed"
    },
    "tags": []
   },
   "outputs": [
    {
     "data": {
      "text/plain": [
       "PassengerId       0\n",
       "HomePlanet        0\n",
       "CryoSleep         0\n",
       "Cabin           199\n",
       "Destination       0\n",
       "Age               0\n",
       "VIP               0\n",
       "RoomService       0\n",
       "FoodCourt         0\n",
       "ShoppingMall      0\n",
       "Spa               0\n",
       "VRDeck            0\n",
       "Name            200\n",
       "Transported       0\n",
       "dtype: int64"
      ]
     },
     "execution_count": 5,
     "metadata": {},
     "output_type": "execute_result"
    }
   ],
   "source": [
    "train.isnull().sum()"
   ]
  },
  {
   "cell_type": "code",
   "execution_count": 6,
   "id": "798b5ff8",
   "metadata": {
    "execution": {
     "iopub.execute_input": "2024-05-18T15:17:14.295115Z",
     "iopub.status.busy": "2024-05-18T15:17:14.294677Z",
     "iopub.status.idle": "2024-05-18T15:17:14.305383Z",
     "shell.execute_reply": "2024-05-18T15:17:14.304285Z"
    },
    "papermill": {
     "duration": 0.021357,
     "end_time": "2024-05-18T15:17:14.307625",
     "exception": false,
     "start_time": "2024-05-18T15:17:14.286268",
     "status": "completed"
    },
    "tags": []
   },
   "outputs": [
    {
     "data": {
      "text/plain": [
       "PassengerId       0\n",
       "HomePlanet        0\n",
       "CryoSleep         0\n",
       "Cabin           100\n",
       "Destination       0\n",
       "Age               0\n",
       "VIP               0\n",
       "RoomService       0\n",
       "FoodCourt         0\n",
       "ShoppingMall      0\n",
       "Spa               0\n",
       "VRDeck            0\n",
       "Name             94\n",
       "dtype: int64"
      ]
     },
     "execution_count": 6,
     "metadata": {},
     "output_type": "execute_result"
    }
   ],
   "source": [
    "test.isnull().sum()"
   ]
  },
  {
   "cell_type": "code",
   "execution_count": 7,
   "id": "dea8fdf0",
   "metadata": {
    "execution": {
     "iopub.execute_input": "2024-05-18T15:17:14.324791Z",
     "iopub.status.busy": "2024-05-18T15:17:14.323578Z",
     "iopub.status.idle": "2024-05-18T15:17:14.339200Z",
     "shell.execute_reply": "2024-05-18T15:17:14.338170Z"
    },
    "papermill": {
     "duration": 0.027133,
     "end_time": "2024-05-18T15:17:14.341778",
     "exception": false,
     "start_time": "2024-05-18T15:17:14.314645",
     "status": "completed"
    },
    "tags": []
   },
   "outputs": [],
   "source": [
    "x = train.drop([\"Cabin\",\"Name\",\"PassengerId\",\"Transported\"],axis=1)\n",
    "y= train[[\"Transported\"]]\n",
    "z = train[[\"PassengerId\"]]"
   ]
  },
  {
   "cell_type": "code",
   "execution_count": 8,
   "id": "1dd3909d",
   "metadata": {
    "execution": {
     "iopub.execute_input": "2024-05-18T15:17:14.359076Z",
     "iopub.status.busy": "2024-05-18T15:17:14.358340Z",
     "iopub.status.idle": "2024-05-18T15:17:14.375840Z",
     "shell.execute_reply": "2024-05-18T15:17:14.374736Z"
    },
    "papermill": {
     "duration": 0.028068,
     "end_time": "2024-05-18T15:17:14.378036",
     "exception": false,
     "start_time": "2024-05-18T15:17:14.349968",
     "status": "completed"
    },
    "tags": []
   },
   "outputs": [
    {
     "data": {
      "text/html": [
       "<div>\n",
       "<style scoped>\n",
       "    .dataframe tbody tr th:only-of-type {\n",
       "        vertical-align: middle;\n",
       "    }\n",
       "\n",
       "    .dataframe tbody tr th {\n",
       "        vertical-align: top;\n",
       "    }\n",
       "\n",
       "    .dataframe thead th {\n",
       "        text-align: right;\n",
       "    }\n",
       "</style>\n",
       "<table border=\"1\" class=\"dataframe\">\n",
       "  <thead>\n",
       "    <tr style=\"text-align: right;\">\n",
       "      <th></th>\n",
       "      <th>HomePlanet</th>\n",
       "      <th>CryoSleep</th>\n",
       "      <th>Destination</th>\n",
       "      <th>Age</th>\n",
       "      <th>VIP</th>\n",
       "      <th>RoomService</th>\n",
       "      <th>FoodCourt</th>\n",
       "      <th>ShoppingMall</th>\n",
       "      <th>Spa</th>\n",
       "      <th>VRDeck</th>\n",
       "    </tr>\n",
       "  </thead>\n",
       "  <tbody>\n",
       "    <tr>\n",
       "      <th>0</th>\n",
       "      <td>Europa</td>\n",
       "      <td>False</td>\n",
       "      <td>TRAPPIST-1e</td>\n",
       "      <td>39.0</td>\n",
       "      <td>False</td>\n",
       "      <td>0.0</td>\n",
       "      <td>0.0</td>\n",
       "      <td>0.0</td>\n",
       "      <td>0.0</td>\n",
       "      <td>0.0</td>\n",
       "    </tr>\n",
       "    <tr>\n",
       "      <th>1</th>\n",
       "      <td>Earth</td>\n",
       "      <td>False</td>\n",
       "      <td>TRAPPIST-1e</td>\n",
       "      <td>24.0</td>\n",
       "      <td>False</td>\n",
       "      <td>109.0</td>\n",
       "      <td>9.0</td>\n",
       "      <td>25.0</td>\n",
       "      <td>549.0</td>\n",
       "      <td>44.0</td>\n",
       "    </tr>\n",
       "    <tr>\n",
       "      <th>2</th>\n",
       "      <td>Europa</td>\n",
       "      <td>False</td>\n",
       "      <td>TRAPPIST-1e</td>\n",
       "      <td>58.0</td>\n",
       "      <td>True</td>\n",
       "      <td>43.0</td>\n",
       "      <td>3576.0</td>\n",
       "      <td>0.0</td>\n",
       "      <td>6715.0</td>\n",
       "      <td>49.0</td>\n",
       "    </tr>\n",
       "    <tr>\n",
       "      <th>3</th>\n",
       "      <td>Europa</td>\n",
       "      <td>False</td>\n",
       "      <td>TRAPPIST-1e</td>\n",
       "      <td>33.0</td>\n",
       "      <td>False</td>\n",
       "      <td>0.0</td>\n",
       "      <td>1283.0</td>\n",
       "      <td>371.0</td>\n",
       "      <td>3329.0</td>\n",
       "      <td>193.0</td>\n",
       "    </tr>\n",
       "    <tr>\n",
       "      <th>4</th>\n",
       "      <td>Earth</td>\n",
       "      <td>False</td>\n",
       "      <td>TRAPPIST-1e</td>\n",
       "      <td>16.0</td>\n",
       "      <td>False</td>\n",
       "      <td>303.0</td>\n",
       "      <td>70.0</td>\n",
       "      <td>151.0</td>\n",
       "      <td>565.0</td>\n",
       "      <td>2.0</td>\n",
       "    </tr>\n",
       "  </tbody>\n",
       "</table>\n",
       "</div>"
      ],
      "text/plain": [
       "  HomePlanet  CryoSleep  Destination   Age    VIP  RoomService  FoodCourt  \\\n",
       "0     Europa      False  TRAPPIST-1e  39.0  False          0.0        0.0   \n",
       "1      Earth      False  TRAPPIST-1e  24.0  False        109.0        9.0   \n",
       "2     Europa      False  TRAPPIST-1e  58.0   True         43.0     3576.0   \n",
       "3     Europa      False  TRAPPIST-1e  33.0  False          0.0     1283.0   \n",
       "4      Earth      False  TRAPPIST-1e  16.0  False        303.0       70.0   \n",
       "\n",
       "   ShoppingMall     Spa  VRDeck  \n",
       "0           0.0     0.0     0.0  \n",
       "1          25.0   549.0    44.0  \n",
       "2           0.0  6715.0    49.0  \n",
       "3         371.0  3329.0   193.0  \n",
       "4         151.0   565.0     2.0  "
      ]
     },
     "execution_count": 8,
     "metadata": {},
     "output_type": "execute_result"
    }
   ],
   "source": [
    "x.head()"
   ]
  },
  {
   "cell_type": "code",
   "execution_count": 9,
   "id": "964addc6",
   "metadata": {
    "execution": {
     "iopub.execute_input": "2024-05-18T15:17:14.394244Z",
     "iopub.status.busy": "2024-05-18T15:17:14.393423Z",
     "iopub.status.idle": "2024-05-18T15:17:14.402130Z",
     "shell.execute_reply": "2024-05-18T15:17:14.400829Z"
    },
    "papermill": {
     "duration": 0.01939,
     "end_time": "2024-05-18T15:17:14.404445",
     "exception": false,
     "start_time": "2024-05-18T15:17:14.385055",
     "status": "completed"
    },
    "tags": []
   },
   "outputs": [],
   "source": [
    "test_x = test.drop([\"Cabin\",\"Name\",\"PassengerId\"],axis=1)\n",
    "test_y= train[[\"PassengerId\"]]"
   ]
  },
  {
   "cell_type": "code",
   "execution_count": 10,
   "id": "8959cc3e",
   "metadata": {
    "execution": {
     "iopub.execute_input": "2024-05-18T15:17:14.421454Z",
     "iopub.status.busy": "2024-05-18T15:17:14.420607Z",
     "iopub.status.idle": "2024-05-18T15:17:14.438006Z",
     "shell.execute_reply": "2024-05-18T15:17:14.436848Z"
    },
    "papermill": {
     "duration": 0.028536,
     "end_time": "2024-05-18T15:17:14.440360",
     "exception": false,
     "start_time": "2024-05-18T15:17:14.411824",
     "status": "completed"
    },
    "tags": []
   },
   "outputs": [
    {
     "data": {
      "text/html": [
       "<div>\n",
       "<style scoped>\n",
       "    .dataframe tbody tr th:only-of-type {\n",
       "        vertical-align: middle;\n",
       "    }\n",
       "\n",
       "    .dataframe tbody tr th {\n",
       "        vertical-align: top;\n",
       "    }\n",
       "\n",
       "    .dataframe thead th {\n",
       "        text-align: right;\n",
       "    }\n",
       "</style>\n",
       "<table border=\"1\" class=\"dataframe\">\n",
       "  <thead>\n",
       "    <tr style=\"text-align: right;\">\n",
       "      <th></th>\n",
       "      <th>HomePlanet</th>\n",
       "      <th>CryoSleep</th>\n",
       "      <th>Destination</th>\n",
       "      <th>Age</th>\n",
       "      <th>VIP</th>\n",
       "      <th>RoomService</th>\n",
       "      <th>FoodCourt</th>\n",
       "      <th>ShoppingMall</th>\n",
       "      <th>Spa</th>\n",
       "      <th>VRDeck</th>\n",
       "    </tr>\n",
       "  </thead>\n",
       "  <tbody>\n",
       "    <tr>\n",
       "      <th>0</th>\n",
       "      <td>Earth</td>\n",
       "      <td>True</td>\n",
       "      <td>TRAPPIST-1e</td>\n",
       "      <td>27.0</td>\n",
       "      <td>False</td>\n",
       "      <td>0.0</td>\n",
       "      <td>0.0</td>\n",
       "      <td>0.0</td>\n",
       "      <td>0.0</td>\n",
       "      <td>0.0</td>\n",
       "    </tr>\n",
       "    <tr>\n",
       "      <th>1</th>\n",
       "      <td>Earth</td>\n",
       "      <td>False</td>\n",
       "      <td>TRAPPIST-1e</td>\n",
       "      <td>19.0</td>\n",
       "      <td>False</td>\n",
       "      <td>0.0</td>\n",
       "      <td>9.0</td>\n",
       "      <td>0.0</td>\n",
       "      <td>2823.0</td>\n",
       "      <td>0.0</td>\n",
       "    </tr>\n",
       "    <tr>\n",
       "      <th>2</th>\n",
       "      <td>Europa</td>\n",
       "      <td>True</td>\n",
       "      <td>55 Cancri e</td>\n",
       "      <td>31.0</td>\n",
       "      <td>False</td>\n",
       "      <td>0.0</td>\n",
       "      <td>0.0</td>\n",
       "      <td>0.0</td>\n",
       "      <td>0.0</td>\n",
       "      <td>0.0</td>\n",
       "    </tr>\n",
       "    <tr>\n",
       "      <th>3</th>\n",
       "      <td>Europa</td>\n",
       "      <td>False</td>\n",
       "      <td>TRAPPIST-1e</td>\n",
       "      <td>38.0</td>\n",
       "      <td>False</td>\n",
       "      <td>0.0</td>\n",
       "      <td>6652.0</td>\n",
       "      <td>0.0</td>\n",
       "      <td>181.0</td>\n",
       "      <td>585.0</td>\n",
       "    </tr>\n",
       "    <tr>\n",
       "      <th>4</th>\n",
       "      <td>Earth</td>\n",
       "      <td>False</td>\n",
       "      <td>TRAPPIST-1e</td>\n",
       "      <td>20.0</td>\n",
       "      <td>False</td>\n",
       "      <td>10.0</td>\n",
       "      <td>0.0</td>\n",
       "      <td>635.0</td>\n",
       "      <td>0.0</td>\n",
       "      <td>0.0</td>\n",
       "    </tr>\n",
       "  </tbody>\n",
       "</table>\n",
       "</div>"
      ],
      "text/plain": [
       "  HomePlanet  CryoSleep  Destination   Age    VIP  RoomService  FoodCourt  \\\n",
       "0      Earth       True  TRAPPIST-1e  27.0  False          0.0        0.0   \n",
       "1      Earth      False  TRAPPIST-1e  19.0  False          0.0        9.0   \n",
       "2     Europa       True  55 Cancri e  31.0  False          0.0        0.0   \n",
       "3     Europa      False  TRAPPIST-1e  38.0  False          0.0     6652.0   \n",
       "4      Earth      False  TRAPPIST-1e  20.0  False         10.0        0.0   \n",
       "\n",
       "   ShoppingMall     Spa  VRDeck  \n",
       "0           0.0     0.0     0.0  \n",
       "1           0.0  2823.0     0.0  \n",
       "2           0.0     0.0     0.0  \n",
       "3           0.0   181.0   585.0  \n",
       "4         635.0     0.0     0.0  "
      ]
     },
     "execution_count": 10,
     "metadata": {},
     "output_type": "execute_result"
    }
   ],
   "source": [
    "test_x.head()"
   ]
  },
  {
   "cell_type": "code",
   "execution_count": 11,
   "id": "8c351010",
   "metadata": {
    "execution": {
     "iopub.execute_input": "2024-05-18T15:17:14.457637Z",
     "iopub.status.busy": "2024-05-18T15:17:14.456956Z",
     "iopub.status.idle": "2024-05-18T15:17:14.466751Z",
     "shell.execute_reply": "2024-05-18T15:17:14.465639Z"
    },
    "papermill": {
     "duration": 0.020863,
     "end_time": "2024-05-18T15:17:14.468786",
     "exception": false,
     "start_time": "2024-05-18T15:17:14.447923",
     "status": "completed"
    },
    "tags": []
   },
   "outputs": [
    {
     "data": {
      "text/html": [
       "<div>\n",
       "<style scoped>\n",
       "    .dataframe tbody tr th:only-of-type {\n",
       "        vertical-align: middle;\n",
       "    }\n",
       "\n",
       "    .dataframe tbody tr th {\n",
       "        vertical-align: top;\n",
       "    }\n",
       "\n",
       "    .dataframe thead th {\n",
       "        text-align: right;\n",
       "    }\n",
       "</style>\n",
       "<table border=\"1\" class=\"dataframe\">\n",
       "  <thead>\n",
       "    <tr style=\"text-align: right;\">\n",
       "      <th></th>\n",
       "      <th>PassengerId</th>\n",
       "    </tr>\n",
       "  </thead>\n",
       "  <tbody>\n",
       "    <tr>\n",
       "      <th>0</th>\n",
       "      <td>0001_01</td>\n",
       "    </tr>\n",
       "    <tr>\n",
       "      <th>1</th>\n",
       "      <td>0002_01</td>\n",
       "    </tr>\n",
       "    <tr>\n",
       "      <th>2</th>\n",
       "      <td>0003_01</td>\n",
       "    </tr>\n",
       "    <tr>\n",
       "      <th>3</th>\n",
       "      <td>0003_02</td>\n",
       "    </tr>\n",
       "    <tr>\n",
       "      <th>4</th>\n",
       "      <td>0004_01</td>\n",
       "    </tr>\n",
       "  </tbody>\n",
       "</table>\n",
       "</div>"
      ],
      "text/plain": [
       "  PassengerId\n",
       "0     0001_01\n",
       "1     0002_01\n",
       "2     0003_01\n",
       "3     0003_02\n",
       "4     0004_01"
      ]
     },
     "execution_count": 11,
     "metadata": {},
     "output_type": "execute_result"
    }
   ],
   "source": [
    "test_y.head()"
   ]
  },
  {
   "cell_type": "code",
   "execution_count": 12,
   "id": "dd7e85ab",
   "metadata": {
    "execution": {
     "iopub.execute_input": "2024-05-18T15:17:14.486072Z",
     "iopub.status.busy": "2024-05-18T15:17:14.485377Z",
     "iopub.status.idle": "2024-05-18T15:17:15.792978Z",
     "shell.execute_reply": "2024-05-18T15:17:15.791464Z"
    },
    "papermill": {
     "duration": 1.31968,
     "end_time": "2024-05-18T15:17:15.795934",
     "exception": false,
     "start_time": "2024-05-18T15:17:14.476254",
     "status": "completed"
    },
    "tags": []
   },
   "outputs": [],
   "source": [
    "from sklearn.preprocessing import LabelEncoder\n",
    "le = LabelEncoder()"
   ]
  },
  {
   "cell_type": "code",
   "execution_count": 13,
   "id": "a3016e50",
   "metadata": {
    "execution": {
     "iopub.execute_input": "2024-05-18T15:17:15.813751Z",
     "iopub.status.busy": "2024-05-18T15:17:15.813309Z",
     "iopub.status.idle": "2024-05-18T15:17:15.831325Z",
     "shell.execute_reply": "2024-05-18T15:17:15.830251Z"
    },
    "papermill": {
     "duration": 0.029807,
     "end_time": "2024-05-18T15:17:15.833885",
     "exception": false,
     "start_time": "2024-05-18T15:17:15.804078",
     "status": "completed"
    },
    "tags": []
   },
   "outputs": [],
   "source": [
    "for col in x.columns:\n",
    "    if x[col].dtype== np.float64:\n",
    "        continue\n",
    "    else:\n",
    "        x[col] = le.fit_transform(x[col])\n",
    "for col in test_x.columns:\n",
    "    if test_x[col].dtype== np.float64:\n",
    "        continue\n",
    "    else:\n",
    "        test_x[col] = le.fit_transform(test_x[col])"
   ]
  },
  {
   "cell_type": "code",
   "execution_count": 14,
   "id": "540e7bb8",
   "metadata": {
    "execution": {
     "iopub.execute_input": "2024-05-18T15:17:15.851477Z",
     "iopub.status.busy": "2024-05-18T15:17:15.850818Z",
     "iopub.status.idle": "2024-05-18T15:17:15.867316Z",
     "shell.execute_reply": "2024-05-18T15:17:15.866119Z"
    },
    "papermill": {
     "duration": 0.028275,
     "end_time": "2024-05-18T15:17:15.869825",
     "exception": false,
     "start_time": "2024-05-18T15:17:15.841550",
     "status": "completed"
    },
    "tags": []
   },
   "outputs": [
    {
     "data": {
      "text/html": [
       "<div>\n",
       "<style scoped>\n",
       "    .dataframe tbody tr th:only-of-type {\n",
       "        vertical-align: middle;\n",
       "    }\n",
       "\n",
       "    .dataframe tbody tr th {\n",
       "        vertical-align: top;\n",
       "    }\n",
       "\n",
       "    .dataframe thead th {\n",
       "        text-align: right;\n",
       "    }\n",
       "</style>\n",
       "<table border=\"1\" class=\"dataframe\">\n",
       "  <thead>\n",
       "    <tr style=\"text-align: right;\">\n",
       "      <th></th>\n",
       "      <th>HomePlanet</th>\n",
       "      <th>CryoSleep</th>\n",
       "      <th>Destination</th>\n",
       "      <th>Age</th>\n",
       "      <th>VIP</th>\n",
       "      <th>RoomService</th>\n",
       "      <th>FoodCourt</th>\n",
       "      <th>ShoppingMall</th>\n",
       "      <th>Spa</th>\n",
       "      <th>VRDeck</th>\n",
       "    </tr>\n",
       "  </thead>\n",
       "  <tbody>\n",
       "    <tr>\n",
       "      <th>0</th>\n",
       "      <td>1</td>\n",
       "      <td>0</td>\n",
       "      <td>2</td>\n",
       "      <td>39.0</td>\n",
       "      <td>0</td>\n",
       "      <td>0.0</td>\n",
       "      <td>0.0</td>\n",
       "      <td>0.0</td>\n",
       "      <td>0.0</td>\n",
       "      <td>0.0</td>\n",
       "    </tr>\n",
       "    <tr>\n",
       "      <th>1</th>\n",
       "      <td>0</td>\n",
       "      <td>0</td>\n",
       "      <td>2</td>\n",
       "      <td>24.0</td>\n",
       "      <td>0</td>\n",
       "      <td>109.0</td>\n",
       "      <td>9.0</td>\n",
       "      <td>25.0</td>\n",
       "      <td>549.0</td>\n",
       "      <td>44.0</td>\n",
       "    </tr>\n",
       "    <tr>\n",
       "      <th>2</th>\n",
       "      <td>1</td>\n",
       "      <td>0</td>\n",
       "      <td>2</td>\n",
       "      <td>58.0</td>\n",
       "      <td>1</td>\n",
       "      <td>43.0</td>\n",
       "      <td>3576.0</td>\n",
       "      <td>0.0</td>\n",
       "      <td>6715.0</td>\n",
       "      <td>49.0</td>\n",
       "    </tr>\n",
       "    <tr>\n",
       "      <th>3</th>\n",
       "      <td>1</td>\n",
       "      <td>0</td>\n",
       "      <td>2</td>\n",
       "      <td>33.0</td>\n",
       "      <td>0</td>\n",
       "      <td>0.0</td>\n",
       "      <td>1283.0</td>\n",
       "      <td>371.0</td>\n",
       "      <td>3329.0</td>\n",
       "      <td>193.0</td>\n",
       "    </tr>\n",
       "    <tr>\n",
       "      <th>4</th>\n",
       "      <td>0</td>\n",
       "      <td>0</td>\n",
       "      <td>2</td>\n",
       "      <td>16.0</td>\n",
       "      <td>0</td>\n",
       "      <td>303.0</td>\n",
       "      <td>70.0</td>\n",
       "      <td>151.0</td>\n",
       "      <td>565.0</td>\n",
       "      <td>2.0</td>\n",
       "    </tr>\n",
       "  </tbody>\n",
       "</table>\n",
       "</div>"
      ],
      "text/plain": [
       "   HomePlanet  CryoSleep  Destination   Age  VIP  RoomService  FoodCourt  \\\n",
       "0           1          0            2  39.0    0          0.0        0.0   \n",
       "1           0          0            2  24.0    0        109.0        9.0   \n",
       "2           1          0            2  58.0    1         43.0     3576.0   \n",
       "3           1          0            2  33.0    0          0.0     1283.0   \n",
       "4           0          0            2  16.0    0        303.0       70.0   \n",
       "\n",
       "   ShoppingMall     Spa  VRDeck  \n",
       "0           0.0     0.0     0.0  \n",
       "1          25.0   549.0    44.0  \n",
       "2           0.0  6715.0    49.0  \n",
       "3         371.0  3329.0   193.0  \n",
       "4         151.0   565.0     2.0  "
      ]
     },
     "execution_count": 14,
     "metadata": {},
     "output_type": "execute_result"
    }
   ],
   "source": [
    "x.head()"
   ]
  },
  {
   "cell_type": "code",
   "execution_count": 15,
   "id": "36bca2bd",
   "metadata": {
    "execution": {
     "iopub.execute_input": "2024-05-18T15:17:15.888317Z",
     "iopub.status.busy": "2024-05-18T15:17:15.887831Z",
     "iopub.status.idle": "2024-05-18T15:17:15.905101Z",
     "shell.execute_reply": "2024-05-18T15:17:15.903916Z"
    },
    "papermill": {
     "duration": 0.029478,
     "end_time": "2024-05-18T15:17:15.907280",
     "exception": false,
     "start_time": "2024-05-18T15:17:15.877802",
     "status": "completed"
    },
    "tags": []
   },
   "outputs": [
    {
     "data": {
      "text/html": [
       "<div>\n",
       "<style scoped>\n",
       "    .dataframe tbody tr th:only-of-type {\n",
       "        vertical-align: middle;\n",
       "    }\n",
       "\n",
       "    .dataframe tbody tr th {\n",
       "        vertical-align: top;\n",
       "    }\n",
       "\n",
       "    .dataframe thead th {\n",
       "        text-align: right;\n",
       "    }\n",
       "</style>\n",
       "<table border=\"1\" class=\"dataframe\">\n",
       "  <thead>\n",
       "    <tr style=\"text-align: right;\">\n",
       "      <th></th>\n",
       "      <th>HomePlanet</th>\n",
       "      <th>CryoSleep</th>\n",
       "      <th>Destination</th>\n",
       "      <th>Age</th>\n",
       "      <th>VIP</th>\n",
       "      <th>RoomService</th>\n",
       "      <th>FoodCourt</th>\n",
       "      <th>ShoppingMall</th>\n",
       "      <th>Spa</th>\n",
       "      <th>VRDeck</th>\n",
       "    </tr>\n",
       "  </thead>\n",
       "  <tbody>\n",
       "    <tr>\n",
       "      <th>0</th>\n",
       "      <td>0</td>\n",
       "      <td>1</td>\n",
       "      <td>2</td>\n",
       "      <td>27.0</td>\n",
       "      <td>0</td>\n",
       "      <td>0.0</td>\n",
       "      <td>0.0</td>\n",
       "      <td>0.0</td>\n",
       "      <td>0.0</td>\n",
       "      <td>0.0</td>\n",
       "    </tr>\n",
       "    <tr>\n",
       "      <th>1</th>\n",
       "      <td>0</td>\n",
       "      <td>0</td>\n",
       "      <td>2</td>\n",
       "      <td>19.0</td>\n",
       "      <td>0</td>\n",
       "      <td>0.0</td>\n",
       "      <td>9.0</td>\n",
       "      <td>0.0</td>\n",
       "      <td>2823.0</td>\n",
       "      <td>0.0</td>\n",
       "    </tr>\n",
       "    <tr>\n",
       "      <th>2</th>\n",
       "      <td>1</td>\n",
       "      <td>1</td>\n",
       "      <td>0</td>\n",
       "      <td>31.0</td>\n",
       "      <td>0</td>\n",
       "      <td>0.0</td>\n",
       "      <td>0.0</td>\n",
       "      <td>0.0</td>\n",
       "      <td>0.0</td>\n",
       "      <td>0.0</td>\n",
       "    </tr>\n",
       "    <tr>\n",
       "      <th>3</th>\n",
       "      <td>1</td>\n",
       "      <td>0</td>\n",
       "      <td>2</td>\n",
       "      <td>38.0</td>\n",
       "      <td>0</td>\n",
       "      <td>0.0</td>\n",
       "      <td>6652.0</td>\n",
       "      <td>0.0</td>\n",
       "      <td>181.0</td>\n",
       "      <td>585.0</td>\n",
       "    </tr>\n",
       "    <tr>\n",
       "      <th>4</th>\n",
       "      <td>0</td>\n",
       "      <td>0</td>\n",
       "      <td>2</td>\n",
       "      <td>20.0</td>\n",
       "      <td>0</td>\n",
       "      <td>10.0</td>\n",
       "      <td>0.0</td>\n",
       "      <td>635.0</td>\n",
       "      <td>0.0</td>\n",
       "      <td>0.0</td>\n",
       "    </tr>\n",
       "  </tbody>\n",
       "</table>\n",
       "</div>"
      ],
      "text/plain": [
       "   HomePlanet  CryoSleep  Destination   Age  VIP  RoomService  FoodCourt  \\\n",
       "0           0          1            2  27.0    0          0.0        0.0   \n",
       "1           0          0            2  19.0    0          0.0        9.0   \n",
       "2           1          1            0  31.0    0          0.0        0.0   \n",
       "3           1          0            2  38.0    0          0.0     6652.0   \n",
       "4           0          0            2  20.0    0         10.0        0.0   \n",
       "\n",
       "   ShoppingMall     Spa  VRDeck  \n",
       "0           0.0     0.0     0.0  \n",
       "1           0.0  2823.0     0.0  \n",
       "2           0.0     0.0     0.0  \n",
       "3           0.0   181.0   585.0  \n",
       "4         635.0     0.0     0.0  "
      ]
     },
     "execution_count": 15,
     "metadata": {},
     "output_type": "execute_result"
    }
   ],
   "source": [
    "test_x.head()"
   ]
  },
  {
   "cell_type": "code",
   "execution_count": 16,
   "id": "685fab5d",
   "metadata": {
    "execution": {
     "iopub.execute_input": "2024-05-18T15:17:15.925346Z",
     "iopub.status.busy": "2024-05-18T15:17:15.924891Z",
     "iopub.status.idle": "2024-05-18T15:17:15.946924Z",
     "shell.execute_reply": "2024-05-18T15:17:15.945679Z"
    },
    "papermill": {
     "duration": 0.034467,
     "end_time": "2024-05-18T15:17:15.949697",
     "exception": false,
     "start_time": "2024-05-18T15:17:15.915230",
     "status": "completed"
    },
    "tags": []
   },
   "outputs": [
    {
     "name": "stdout",
     "output_type": "stream",
     "text": [
      "<class 'pandas.core.frame.DataFrame'>\n",
      "RangeIndex: 4277 entries, 0 to 4276\n",
      "Data columns (total 10 columns):\n",
      " #   Column        Non-Null Count  Dtype  \n",
      "---  ------        --------------  -----  \n",
      " 0   HomePlanet    4277 non-null   int64  \n",
      " 1   CryoSleep     4277 non-null   int64  \n",
      " 2   Destination   4277 non-null   int64  \n",
      " 3   Age           4277 non-null   float64\n",
      " 4   VIP           4277 non-null   int64  \n",
      " 5   RoomService   4277 non-null   float64\n",
      " 6   FoodCourt     4277 non-null   float64\n",
      " 7   ShoppingMall  4277 non-null   float64\n",
      " 8   Spa           4277 non-null   float64\n",
      " 9   VRDeck        4277 non-null   float64\n",
      "dtypes: float64(6), int64(4)\n",
      "memory usage: 334.3 KB\n"
     ]
    }
   ],
   "source": [
    "test_x.info()"
   ]
  },
  {
   "cell_type": "code",
   "execution_count": 17,
   "id": "d36cfb61",
   "metadata": {
    "execution": {
     "iopub.execute_input": "2024-05-18T15:17:15.968527Z",
     "iopub.status.busy": "2024-05-18T15:17:15.968100Z",
     "iopub.status.idle": "2024-05-18T15:17:15.989782Z",
     "shell.execute_reply": "2024-05-18T15:17:15.988316Z"
    },
    "papermill": {
     "duration": 0.034554,
     "end_time": "2024-05-18T15:17:15.992752",
     "exception": false,
     "start_time": "2024-05-18T15:17:15.958198",
     "status": "completed"
    },
    "tags": []
   },
   "outputs": [],
   "source": [
    "for col in x.columns:\n",
    "    if x[col].dtype == np.float64:\n",
    "        continue\n",
    "    else:\n",
    "        one = pd.get_dummies(x[col], drop_first=True, prefix=f'One_Hot_{col}')\n",
    "        x.drop(x[[col]], axis=1,inplace=True)\n",
    "        x=pd.concat([x,one], axis=1)"
   ]
  },
  {
   "cell_type": "code",
   "execution_count": 18,
   "id": "339174aa",
   "metadata": {
    "execution": {
     "iopub.execute_input": "2024-05-18T15:17:16.012053Z",
     "iopub.status.busy": "2024-05-18T15:17:16.011580Z",
     "iopub.status.idle": "2024-05-18T15:17:16.032275Z",
     "shell.execute_reply": "2024-05-18T15:17:16.030831Z"
    },
    "papermill": {
     "duration": 0.034026,
     "end_time": "2024-05-18T15:17:16.034879",
     "exception": false,
     "start_time": "2024-05-18T15:17:16.000853",
     "status": "completed"
    },
    "tags": []
   },
   "outputs": [
    {
     "data": {
      "text/html": [
       "<div>\n",
       "<style scoped>\n",
       "    .dataframe tbody tr th:only-of-type {\n",
       "        vertical-align: middle;\n",
       "    }\n",
       "\n",
       "    .dataframe tbody tr th {\n",
       "        vertical-align: top;\n",
       "    }\n",
       "\n",
       "    .dataframe thead th {\n",
       "        text-align: right;\n",
       "    }\n",
       "</style>\n",
       "<table border=\"1\" class=\"dataframe\">\n",
       "  <thead>\n",
       "    <tr style=\"text-align: right;\">\n",
       "      <th></th>\n",
       "      <th>Age</th>\n",
       "      <th>RoomService</th>\n",
       "      <th>FoodCourt</th>\n",
       "      <th>ShoppingMall</th>\n",
       "      <th>Spa</th>\n",
       "      <th>VRDeck</th>\n",
       "      <th>One_Hot_HomePlanet_1</th>\n",
       "      <th>One_Hot_HomePlanet_2</th>\n",
       "      <th>One_Hot_CryoSleep_1</th>\n",
       "      <th>One_Hot_Destination_1</th>\n",
       "      <th>One_Hot_Destination_2</th>\n",
       "      <th>One_Hot_VIP_1</th>\n",
       "    </tr>\n",
       "  </thead>\n",
       "  <tbody>\n",
       "    <tr>\n",
       "      <th>0</th>\n",
       "      <td>39.0</td>\n",
       "      <td>0.0</td>\n",
       "      <td>0.0</td>\n",
       "      <td>0.0</td>\n",
       "      <td>0.0</td>\n",
       "      <td>0.0</td>\n",
       "      <td>True</td>\n",
       "      <td>False</td>\n",
       "      <td>False</td>\n",
       "      <td>False</td>\n",
       "      <td>True</td>\n",
       "      <td>False</td>\n",
       "    </tr>\n",
       "    <tr>\n",
       "      <th>1</th>\n",
       "      <td>24.0</td>\n",
       "      <td>109.0</td>\n",
       "      <td>9.0</td>\n",
       "      <td>25.0</td>\n",
       "      <td>549.0</td>\n",
       "      <td>44.0</td>\n",
       "      <td>False</td>\n",
       "      <td>False</td>\n",
       "      <td>False</td>\n",
       "      <td>False</td>\n",
       "      <td>True</td>\n",
       "      <td>False</td>\n",
       "    </tr>\n",
       "    <tr>\n",
       "      <th>2</th>\n",
       "      <td>58.0</td>\n",
       "      <td>43.0</td>\n",
       "      <td>3576.0</td>\n",
       "      <td>0.0</td>\n",
       "      <td>6715.0</td>\n",
       "      <td>49.0</td>\n",
       "      <td>True</td>\n",
       "      <td>False</td>\n",
       "      <td>False</td>\n",
       "      <td>False</td>\n",
       "      <td>True</td>\n",
       "      <td>True</td>\n",
       "    </tr>\n",
       "    <tr>\n",
       "      <th>3</th>\n",
       "      <td>33.0</td>\n",
       "      <td>0.0</td>\n",
       "      <td>1283.0</td>\n",
       "      <td>371.0</td>\n",
       "      <td>3329.0</td>\n",
       "      <td>193.0</td>\n",
       "      <td>True</td>\n",
       "      <td>False</td>\n",
       "      <td>False</td>\n",
       "      <td>False</td>\n",
       "      <td>True</td>\n",
       "      <td>False</td>\n",
       "    </tr>\n",
       "    <tr>\n",
       "      <th>4</th>\n",
       "      <td>16.0</td>\n",
       "      <td>303.0</td>\n",
       "      <td>70.0</td>\n",
       "      <td>151.0</td>\n",
       "      <td>565.0</td>\n",
       "      <td>2.0</td>\n",
       "      <td>False</td>\n",
       "      <td>False</td>\n",
       "      <td>False</td>\n",
       "      <td>False</td>\n",
       "      <td>True</td>\n",
       "      <td>False</td>\n",
       "    </tr>\n",
       "  </tbody>\n",
       "</table>\n",
       "</div>"
      ],
      "text/plain": [
       "    Age  RoomService  FoodCourt  ShoppingMall     Spa  VRDeck  \\\n",
       "0  39.0          0.0        0.0           0.0     0.0     0.0   \n",
       "1  24.0        109.0        9.0          25.0   549.0    44.0   \n",
       "2  58.0         43.0     3576.0           0.0  6715.0    49.0   \n",
       "3  33.0          0.0     1283.0         371.0  3329.0   193.0   \n",
       "4  16.0        303.0       70.0         151.0   565.0     2.0   \n",
       "\n",
       "   One_Hot_HomePlanet_1  One_Hot_HomePlanet_2  One_Hot_CryoSleep_1  \\\n",
       "0                  True                 False                False   \n",
       "1                 False                 False                False   \n",
       "2                  True                 False                False   \n",
       "3                  True                 False                False   \n",
       "4                 False                 False                False   \n",
       "\n",
       "   One_Hot_Destination_1  One_Hot_Destination_2  One_Hot_VIP_1  \n",
       "0                  False                   True          False  \n",
       "1                  False                   True          False  \n",
       "2                  False                   True           True  \n",
       "3                  False                   True          False  \n",
       "4                  False                   True          False  "
      ]
     },
     "execution_count": 18,
     "metadata": {},
     "output_type": "execute_result"
    }
   ],
   "source": [
    "x.head()"
   ]
  },
  {
   "cell_type": "code",
   "execution_count": 19,
   "id": "0d727fa5",
   "metadata": {
    "execution": {
     "iopub.execute_input": "2024-05-18T15:17:16.053576Z",
     "iopub.status.busy": "2024-05-18T15:17:16.053139Z",
     "iopub.status.idle": "2024-05-18T15:17:16.071232Z",
     "shell.execute_reply": "2024-05-18T15:17:16.069986Z"
    },
    "papermill": {
     "duration": 0.03066,
     "end_time": "2024-05-18T15:17:16.073873",
     "exception": false,
     "start_time": "2024-05-18T15:17:16.043213",
     "status": "completed"
    },
    "tags": []
   },
   "outputs": [],
   "source": [
    "for col in test_x.columns:\n",
    "    if test_x[col].dtype == np.float64:\n",
    "        continue\n",
    "    else:\n",
    "        one = pd.get_dummies(test_x[col], drop_first=True, prefix=f'One_Hot_{col}')\n",
    "        test_x.drop(test_x[[col]], axis=1,inplace=True)\n",
    "        test_x=pd.concat([test_x,one], axis=1)"
   ]
  },
  {
   "cell_type": "code",
   "execution_count": 20,
   "id": "049d65ff",
   "metadata": {
    "execution": {
     "iopub.execute_input": "2024-05-18T15:17:16.092473Z",
     "iopub.status.busy": "2024-05-18T15:17:16.092029Z",
     "iopub.status.idle": "2024-05-18T15:17:16.112149Z",
     "shell.execute_reply": "2024-05-18T15:17:16.110978Z"
    },
    "papermill": {
     "duration": 0.032332,
     "end_time": "2024-05-18T15:17:16.114316",
     "exception": false,
     "start_time": "2024-05-18T15:17:16.081984",
     "status": "completed"
    },
    "tags": []
   },
   "outputs": [
    {
     "data": {
      "text/html": [
       "<div>\n",
       "<style scoped>\n",
       "    .dataframe tbody tr th:only-of-type {\n",
       "        vertical-align: middle;\n",
       "    }\n",
       "\n",
       "    .dataframe tbody tr th {\n",
       "        vertical-align: top;\n",
       "    }\n",
       "\n",
       "    .dataframe thead th {\n",
       "        text-align: right;\n",
       "    }\n",
       "</style>\n",
       "<table border=\"1\" class=\"dataframe\">\n",
       "  <thead>\n",
       "    <tr style=\"text-align: right;\">\n",
       "      <th></th>\n",
       "      <th>Age</th>\n",
       "      <th>RoomService</th>\n",
       "      <th>FoodCourt</th>\n",
       "      <th>ShoppingMall</th>\n",
       "      <th>Spa</th>\n",
       "      <th>VRDeck</th>\n",
       "      <th>One_Hot_HomePlanet_1</th>\n",
       "      <th>One_Hot_HomePlanet_2</th>\n",
       "      <th>One_Hot_CryoSleep_1</th>\n",
       "      <th>One_Hot_Destination_1</th>\n",
       "      <th>One_Hot_Destination_2</th>\n",
       "      <th>One_Hot_VIP_1</th>\n",
       "    </tr>\n",
       "  </thead>\n",
       "  <tbody>\n",
       "    <tr>\n",
       "      <th>0</th>\n",
       "      <td>27.0</td>\n",
       "      <td>0.0</td>\n",
       "      <td>0.0</td>\n",
       "      <td>0.0</td>\n",
       "      <td>0.0</td>\n",
       "      <td>0.0</td>\n",
       "      <td>False</td>\n",
       "      <td>False</td>\n",
       "      <td>True</td>\n",
       "      <td>False</td>\n",
       "      <td>True</td>\n",
       "      <td>False</td>\n",
       "    </tr>\n",
       "    <tr>\n",
       "      <th>1</th>\n",
       "      <td>19.0</td>\n",
       "      <td>0.0</td>\n",
       "      <td>9.0</td>\n",
       "      <td>0.0</td>\n",
       "      <td>2823.0</td>\n",
       "      <td>0.0</td>\n",
       "      <td>False</td>\n",
       "      <td>False</td>\n",
       "      <td>False</td>\n",
       "      <td>False</td>\n",
       "      <td>True</td>\n",
       "      <td>False</td>\n",
       "    </tr>\n",
       "    <tr>\n",
       "      <th>2</th>\n",
       "      <td>31.0</td>\n",
       "      <td>0.0</td>\n",
       "      <td>0.0</td>\n",
       "      <td>0.0</td>\n",
       "      <td>0.0</td>\n",
       "      <td>0.0</td>\n",
       "      <td>True</td>\n",
       "      <td>False</td>\n",
       "      <td>True</td>\n",
       "      <td>False</td>\n",
       "      <td>False</td>\n",
       "      <td>False</td>\n",
       "    </tr>\n",
       "    <tr>\n",
       "      <th>3</th>\n",
       "      <td>38.0</td>\n",
       "      <td>0.0</td>\n",
       "      <td>6652.0</td>\n",
       "      <td>0.0</td>\n",
       "      <td>181.0</td>\n",
       "      <td>585.0</td>\n",
       "      <td>True</td>\n",
       "      <td>False</td>\n",
       "      <td>False</td>\n",
       "      <td>False</td>\n",
       "      <td>True</td>\n",
       "      <td>False</td>\n",
       "    </tr>\n",
       "    <tr>\n",
       "      <th>4</th>\n",
       "      <td>20.0</td>\n",
       "      <td>10.0</td>\n",
       "      <td>0.0</td>\n",
       "      <td>635.0</td>\n",
       "      <td>0.0</td>\n",
       "      <td>0.0</td>\n",
       "      <td>False</td>\n",
       "      <td>False</td>\n",
       "      <td>False</td>\n",
       "      <td>False</td>\n",
       "      <td>True</td>\n",
       "      <td>False</td>\n",
       "    </tr>\n",
       "  </tbody>\n",
       "</table>\n",
       "</div>"
      ],
      "text/plain": [
       "    Age  RoomService  FoodCourt  ShoppingMall     Spa  VRDeck  \\\n",
       "0  27.0          0.0        0.0           0.0     0.0     0.0   \n",
       "1  19.0          0.0        9.0           0.0  2823.0     0.0   \n",
       "2  31.0          0.0        0.0           0.0     0.0     0.0   \n",
       "3  38.0          0.0     6652.0           0.0   181.0   585.0   \n",
       "4  20.0         10.0        0.0         635.0     0.0     0.0   \n",
       "\n",
       "   One_Hot_HomePlanet_1  One_Hot_HomePlanet_2  One_Hot_CryoSleep_1  \\\n",
       "0                 False                 False                 True   \n",
       "1                 False                 False                False   \n",
       "2                  True                 False                 True   \n",
       "3                  True                 False                False   \n",
       "4                 False                 False                False   \n",
       "\n",
       "   One_Hot_Destination_1  One_Hot_Destination_2  One_Hot_VIP_1  \n",
       "0                  False                   True          False  \n",
       "1                  False                   True          False  \n",
       "2                  False                  False          False  \n",
       "3                  False                   True          False  \n",
       "4                  False                   True          False  "
      ]
     },
     "execution_count": 20,
     "metadata": {},
     "output_type": "execute_result"
    }
   ],
   "source": [
    "test_x.head()"
   ]
  },
  {
   "cell_type": "code",
   "execution_count": 21,
   "id": "b4cab037",
   "metadata": {
    "execution": {
     "iopub.execute_input": "2024-05-18T15:17:16.133255Z",
     "iopub.status.busy": "2024-05-18T15:17:16.132771Z",
     "iopub.status.idle": "2024-05-18T15:17:16.153990Z",
     "shell.execute_reply": "2024-05-18T15:17:16.152550Z"
    },
    "papermill": {
     "duration": 0.03434,
     "end_time": "2024-05-18T15:17:16.156976",
     "exception": false,
     "start_time": "2024-05-18T15:17:16.122636",
     "status": "completed"
    },
    "tags": []
   },
   "outputs": [
    {
     "data": {
      "text/html": [
       "<div>\n",
       "<style scoped>\n",
       "    .dataframe tbody tr th:only-of-type {\n",
       "        vertical-align: middle;\n",
       "    }\n",
       "\n",
       "    .dataframe tbody tr th {\n",
       "        vertical-align: top;\n",
       "    }\n",
       "\n",
       "    .dataframe thead th {\n",
       "        text-align: right;\n",
       "    }\n",
       "</style>\n",
       "<table border=\"1\" class=\"dataframe\">\n",
       "  <thead>\n",
       "    <tr style=\"text-align: right;\">\n",
       "      <th></th>\n",
       "      <th>Age</th>\n",
       "      <th>RoomService</th>\n",
       "      <th>FoodCourt</th>\n",
       "      <th>ShoppingMall</th>\n",
       "      <th>Spa</th>\n",
       "      <th>VRDeck</th>\n",
       "      <th>One_Hot_HomePlanet_1</th>\n",
       "      <th>One_Hot_HomePlanet_2</th>\n",
       "      <th>One_Hot_CryoSleep_1</th>\n",
       "      <th>One_Hot_Destination_1</th>\n",
       "      <th>One_Hot_Destination_2</th>\n",
       "      <th>One_Hot_VIP_1</th>\n",
       "    </tr>\n",
       "  </thead>\n",
       "  <tbody>\n",
       "    <tr>\n",
       "      <th>0</th>\n",
       "      <td>39.0</td>\n",
       "      <td>0.0</td>\n",
       "      <td>0.0</td>\n",
       "      <td>0.0</td>\n",
       "      <td>0.0</td>\n",
       "      <td>0.0</td>\n",
       "      <td>True</td>\n",
       "      <td>False</td>\n",
       "      <td>False</td>\n",
       "      <td>False</td>\n",
       "      <td>True</td>\n",
       "      <td>False</td>\n",
       "    </tr>\n",
       "    <tr>\n",
       "      <th>1</th>\n",
       "      <td>24.0</td>\n",
       "      <td>109.0</td>\n",
       "      <td>9.0</td>\n",
       "      <td>25.0</td>\n",
       "      <td>549.0</td>\n",
       "      <td>44.0</td>\n",
       "      <td>False</td>\n",
       "      <td>False</td>\n",
       "      <td>False</td>\n",
       "      <td>False</td>\n",
       "      <td>True</td>\n",
       "      <td>False</td>\n",
       "    </tr>\n",
       "    <tr>\n",
       "      <th>2</th>\n",
       "      <td>58.0</td>\n",
       "      <td>43.0</td>\n",
       "      <td>3576.0</td>\n",
       "      <td>0.0</td>\n",
       "      <td>6715.0</td>\n",
       "      <td>49.0</td>\n",
       "      <td>True</td>\n",
       "      <td>False</td>\n",
       "      <td>False</td>\n",
       "      <td>False</td>\n",
       "      <td>True</td>\n",
       "      <td>True</td>\n",
       "    </tr>\n",
       "    <tr>\n",
       "      <th>3</th>\n",
       "      <td>33.0</td>\n",
       "      <td>0.0</td>\n",
       "      <td>1283.0</td>\n",
       "      <td>371.0</td>\n",
       "      <td>3329.0</td>\n",
       "      <td>193.0</td>\n",
       "      <td>True</td>\n",
       "      <td>False</td>\n",
       "      <td>False</td>\n",
       "      <td>False</td>\n",
       "      <td>True</td>\n",
       "      <td>False</td>\n",
       "    </tr>\n",
       "    <tr>\n",
       "      <th>4</th>\n",
       "      <td>16.0</td>\n",
       "      <td>303.0</td>\n",
       "      <td>70.0</td>\n",
       "      <td>151.0</td>\n",
       "      <td>565.0</td>\n",
       "      <td>2.0</td>\n",
       "      <td>False</td>\n",
       "      <td>False</td>\n",
       "      <td>False</td>\n",
       "      <td>False</td>\n",
       "      <td>True</td>\n",
       "      <td>False</td>\n",
       "    </tr>\n",
       "  </tbody>\n",
       "</table>\n",
       "</div>"
      ],
      "text/plain": [
       "    Age  RoomService  FoodCourt  ShoppingMall     Spa  VRDeck  \\\n",
       "0  39.0          0.0        0.0           0.0     0.0     0.0   \n",
       "1  24.0        109.0        9.0          25.0   549.0    44.0   \n",
       "2  58.0         43.0     3576.0           0.0  6715.0    49.0   \n",
       "3  33.0          0.0     1283.0         371.0  3329.0   193.0   \n",
       "4  16.0        303.0       70.0         151.0   565.0     2.0   \n",
       "\n",
       "   One_Hot_HomePlanet_1  One_Hot_HomePlanet_2  One_Hot_CryoSleep_1  \\\n",
       "0                  True                 False                False   \n",
       "1                 False                 False                False   \n",
       "2                  True                 False                False   \n",
       "3                  True                 False                False   \n",
       "4                 False                 False                False   \n",
       "\n",
       "   One_Hot_Destination_1  One_Hot_Destination_2  One_Hot_VIP_1  \n",
       "0                  False                   True          False  \n",
       "1                  False                   True          False  \n",
       "2                  False                   True           True  \n",
       "3                  False                   True          False  \n",
       "4                  False                   True          False  "
      ]
     },
     "execution_count": 21,
     "metadata": {},
     "output_type": "execute_result"
    }
   ],
   "source": [
    "x.head()"
   ]
  },
  {
   "cell_type": "code",
   "execution_count": 22,
   "id": "e7ad3a0c",
   "metadata": {
    "execution": {
     "iopub.execute_input": "2024-05-18T15:17:16.178311Z",
     "iopub.status.busy": "2024-05-18T15:17:16.177881Z",
     "iopub.status.idle": "2024-05-18T15:17:16.305607Z",
     "shell.execute_reply": "2024-05-18T15:17:16.304100Z"
    },
    "papermill": {
     "duration": 0.141806,
     "end_time": "2024-05-18T15:17:16.308649",
     "exception": false,
     "start_time": "2024-05-18T15:17:16.166843",
     "status": "completed"
    },
    "tags": []
   },
   "outputs": [],
   "source": [
    "from sklearn.model_selection import train_test_split\n",
    "xtrain,xtest,ytrain,ytest= train_test_split(x,y, test_size= .2, random_state=41)"
   ]
  },
  {
   "cell_type": "code",
   "execution_count": 23,
   "id": "9a1c98a7",
   "metadata": {
    "execution": {
     "iopub.execute_input": "2024-05-18T15:17:16.329562Z",
     "iopub.status.busy": "2024-05-18T15:17:16.329135Z",
     "iopub.status.idle": "2024-05-18T15:17:17.482333Z",
     "shell.execute_reply": "2024-05-18T15:17:17.480746Z"
    },
    "papermill": {
     "duration": 1.167109,
     "end_time": "2024-05-18T15:17:17.485073",
     "exception": false,
     "start_time": "2024-05-18T15:17:16.317964",
     "status": "completed"
    },
    "tags": []
   },
   "outputs": [
    {
     "data": {
      "text/plain": [
       "0.8001150417026172"
      ]
     },
     "execution_count": 23,
     "metadata": {},
     "output_type": "execute_result"
    }
   ],
   "source": [
    "from sklearn.ensemble import AdaBoostClassifier\n",
    "\n",
    "AD = AdaBoostClassifier( n_estimators=100,\n",
    "                        random_state= 40,\n",
    "                       )\n",
    "AD.fit (xtrain, ytrain)\n",
    "AD.score (xtrain, ytrain)\n"
   ]
  },
  {
   "cell_type": "code",
   "execution_count": 24,
   "id": "c692fffd",
   "metadata": {
    "execution": {
     "iopub.execute_input": "2024-05-18T15:17:17.506368Z",
     "iopub.status.busy": "2024-05-18T15:17:17.505474Z",
     "iopub.status.idle": "2024-05-18T15:17:17.558020Z",
     "shell.execute_reply": "2024-05-18T15:17:17.556636Z"
    },
    "papermill": {
     "duration": 0.066064,
     "end_time": "2024-05-18T15:17:17.560648",
     "exception": false,
     "start_time": "2024-05-18T15:17:17.494584",
     "status": "completed"
    },
    "tags": []
   },
   "outputs": [
    {
     "data": {
      "text/plain": [
       "0.7889591719378953"
      ]
     },
     "execution_count": 24,
     "metadata": {},
     "output_type": "execute_result"
    }
   ],
   "source": [
    "AD.score (xtest, ytest)"
   ]
  },
  {
   "cell_type": "code",
   "execution_count": 25,
   "id": "4d1b750d",
   "metadata": {
    "execution": {
     "iopub.execute_input": "2024-05-18T15:17:17.580955Z",
     "iopub.status.busy": "2024-05-18T15:17:17.580455Z",
     "iopub.status.idle": "2024-05-18T15:17:17.648136Z",
     "shell.execute_reply": "2024-05-18T15:17:17.647038Z"
    },
    "papermill": {
     "duration": 0.081075,
     "end_time": "2024-05-18T15:17:17.650966",
     "exception": false,
     "start_time": "2024-05-18T15:17:17.569891",
     "status": "completed"
    },
    "tags": []
   },
   "outputs": [],
   "source": [
    "y_pred = AD.predict(test_x)"
   ]
  },
  {
   "cell_type": "code",
   "execution_count": 26,
   "id": "858bcedd",
   "metadata": {
    "execution": {
     "iopub.execute_input": "2024-05-18T15:17:17.672703Z",
     "iopub.status.busy": "2024-05-18T15:17:17.671491Z",
     "iopub.status.idle": "2024-05-18T15:17:17.684877Z",
     "shell.execute_reply": "2024-05-18T15:17:17.683735Z"
    },
    "papermill": {
     "duration": 0.027165,
     "end_time": "2024-05-18T15:17:17.687439",
     "exception": false,
     "start_time": "2024-05-18T15:17:17.660274",
     "status": "completed"
    },
    "tags": []
   },
   "outputs": [],
   "source": [
    "y_pred_bool = y_pred >= 0.5\n",
    "submission = pd.DataFrame({ 'PassengerId': submission_df['PassengerId'],'Transported':y_pred_bool})\n",
    "submission.to_csv('submission.csv', index=False)"
   ]
  },
  {
   "cell_type": "code",
   "execution_count": null,
   "id": "62252760",
   "metadata": {
    "papermill": {
     "duration": 0.009031,
     "end_time": "2024-05-18T15:17:17.706278",
     "exception": false,
     "start_time": "2024-05-18T15:17:17.697247",
     "status": "completed"
    },
    "tags": []
   },
   "outputs": [],
   "source": []
  }
 ],
 "metadata": {
  "kaggle": {
   "accelerator": "none",
   "dataSources": [
    {
     "databundleVersionId": 3220602,
     "sourceId": 34377,
     "sourceType": "competition"
    }
   ],
   "dockerImageVersionId": 30698,
   "isGpuEnabled": false,
   "isInternetEnabled": true,
   "language": "python",
   "sourceType": "notebook"
  },
  "kernelspec": {
   "display_name": "Python 3",
   "language": "python",
   "name": "python3"
  },
  "language_info": {
   "codemirror_mode": {
    "name": "ipython",
    "version": 3
   },
   "file_extension": ".py",
   "mimetype": "text/x-python",
   "name": "python",
   "nbconvert_exporter": "python",
   "pygments_lexer": "ipython3",
   "version": "3.10.13"
  },
  "papermill": {
   "default_parameters": {},
   "duration": 8.320672,
   "end_time": "2024-05-18T15:17:18.438260",
   "environment_variables": {},
   "exception": null,
   "input_path": "__notebook__.ipynb",
   "output_path": "__notebook__.ipynb",
   "parameters": {},
   "start_time": "2024-05-18T15:17:10.117588",
   "version": "2.5.0"
  }
 },
 "nbformat": 4,
 "nbformat_minor": 5
}
